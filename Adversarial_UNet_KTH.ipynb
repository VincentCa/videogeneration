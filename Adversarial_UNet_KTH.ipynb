{
 "cells": [
  {
   "cell_type": "code",
   "execution_count": 1,
   "metadata": {},
   "outputs": [
    {
     "name": "stderr",
     "output_type": "stream",
     "text": [
      "C:\\Users\\Camilo\\Anaconda3\\lib\\site-packages\\h5py\\__init__.py:34: FutureWarning: Conversion of the second argument of issubdtype from `float` to `np.floating` is deprecated. In future, it will be treated as `np.float64 == np.dtype(float).type`.\n",
      "  from ._conv import register_converters as _register_converters\n",
      "Using TensorFlow backend.\n"
     ]
    }
   ],
   "source": [
    "import h5py\n",
    "import numpy as np\n",
    "import matplotlib.pyplot as plt\n",
    "from keras.models import *\n",
    "from keras.layers import Input, merge, Conv2D, MaxPooling2D, UpSampling2D, Dropout, Cropping2D, AvgPool2D, Flatten, Dense\n",
    "from keras.optimizers import *\n",
    "from keras.callbacks import ModelCheckpoint, LearningRateScheduler\n",
    "from keras import backend as K\n",
    "from keras import preprocessing\n",
    "from keras.preprocessing import image\n",
    "import keras\n",
    "from keras import optimizers\n",
    "import cv2\n",
    "import tqdm\n",
    "import pickle\n",
    "from tqdm import tqdm\n",
    "%matplotlib inline\n",
    "import warnings\n",
    "from IPython.display import clear_output\n",
    "\n",
    "warnings.filterwarnings('ignore')\n",
    "\n",
    "WITH_SENTENCE=True\n",
    "FIT_RESIDUALS=False\n",
    "SENTENCE_LENGTH = 1 #16 #9\n",
    "NUM_DIFF_WORDS = 2\n"
   ]
  },
  {
   "cell_type": "markdown",
   "metadata": {},
   "source": [
    "## Load dataset"
   ]
  },
  {
   "cell_type": "code",
   "execution_count": 2,
   "metadata": {
    "collapsed": true
   },
   "outputs": [],
   "source": [
    "f = open('cap2vid/dataset/walking/pickle_x_1.pkl', 'rb')\n",
    "X1 = pickle.load(f)\n",
    "f.close()\n",
    "f = open('cap2vid/dataset/walking/pickle_x_2.pkl', 'rb')\n",
    "X2 = pickle.load(f)\n",
    "f.close()\n",
    "f = open('cap2vid/dataset/walking/pickle_x_3.pkl', 'rb')\n",
    "X3 = pickle.load(f)\n",
    "f.close()\n",
    "f = open('cap2vid/dataset/walking/pickle_x_4.pkl', 'rb')\n",
    "X4 = pickle.load(f)\n",
    "f.close()"
   ]
  },
  {
   "cell_type": "code",
   "execution_count": 3,
   "metadata": {},
   "outputs": [
    {
     "name": "stdout",
     "output_type": "stream",
     "text": [
      "400\n"
     ]
    }
   ],
   "source": [
    "X = []\n",
    "X.extend(X1)\n",
    "X.extend(X2)\n",
    "X.extend(X3)\n",
    "X.extend(X4)\n",
    "print(len(X))"
   ]
  },
  {
   "cell_type": "code",
   "execution_count": 4,
   "metadata": {
    "collapsed": true
   },
   "outputs": [],
   "source": [
    "# To numpy array and keep only first channel\n",
    "for i in range(len(X)):\n",
    "    X[i] = np.array(X[i], dtype=np.float32)[:,:,:,0]\n",
    "    "
   ]
  },
  {
   "cell_type": "code",
   "execution_count": 5,
   "metadata": {
    "collapsed": true
   },
   "outputs": [],
   "source": [
    "#skip some frames\n",
    "Xnew = []\n",
    "for i in range(len(X)):\n",
    "    Xnew.append(X[i][0:X[i].shape[0]:5, :, :])\n"
   ]
  },
  {
   "cell_type": "code",
   "execution_count": 6,
   "metadata": {},
   "outputs": [
    {
     "name": "stdout",
     "output_type": "stream",
     "text": [
      "(75, 120, 160)\n",
      "(15, 120, 160)\n"
     ]
    }
   ],
   "source": [
    "# Printing shapes before and after taking only \n",
    "print(X[0].shape)\n",
    "print(Xnew[0].shape)"
   ]
  },
  {
   "cell_type": "code",
   "execution_count": 7,
   "metadata": {
    "collapsed": true
   },
   "outputs": [],
   "source": [
    "X = Xnew"
   ]
  },
  {
   "cell_type": "code",
   "execution_count": 8,
   "metadata": {
    "scrolled": false
   },
   "outputs": [
    {
     "name": "stderr",
     "output_type": "stream",
     "text": [
      "100%|██████████| 400/400 [00:04<00:00, 90.24it/s] \n"
     ]
    }
   ],
   "source": [
    "#resize\n",
    "X2 = []\n",
    "for i in tqdm(range(len(X))):\n",
    "    arr = np.zeros(shape=(X[i].shape[0], 128,128), dtype=np.float32)\n",
    "    for j in range(X[i].shape[0]):\n",
    "        arr[j] = cv2.resize(X[i][j], (128,128))\n",
    "    X2.append(arr)"
   ]
  },
  {
   "cell_type": "code",
   "execution_count": 9,
   "metadata": {},
   "outputs": [
    {
     "name": "stdout",
     "output_type": "stream",
     "text": [
      "float32\n",
      "400\n"
     ]
    }
   ],
   "source": [
    "print(X2[0].dtype)\n",
    "print(len(X2))"
   ]
  },
  {
   "cell_type": "code",
   "execution_count": 10,
   "metadata": {
    "collapsed": true
   },
   "outputs": [],
   "source": [
    "del X"
   ]
  },
  {
   "cell_type": "code",
   "execution_count": 11,
   "metadata": {
    "collapsed": true
   },
   "outputs": [],
   "source": [
    "imgs = X2"
   ]
  },
  {
   "cell_type": "code",
   "execution_count": 12,
   "metadata": {},
   "outputs": [
    {
     "name": "stdout",
     "output_type": "stream",
     "text": [
      "(15, 128, 128)\n"
     ]
    },
    {
     "data": {
      "text/plain": [
       "<matplotlib.image.AxesImage at 0x228e02000f0>"
      ]
     },
     "execution_count": 12,
     "metadata": {},
     "output_type": "execute_result"
    },
    {
     "data": {
      "image/png": "[encoded data removed]",
      "text/plain": [
       "<matplotlib.figure.Figure at 0x228bd391b00>"
      ]
     },
     "metadata": {},
     "output_type": "display_data"
    }
   ],
   "source": [
    "print(X2[0].shape)\n",
    "plt.imshow(X2[0][4,:,:],cmap='gray')"
   ]
  },
  {
   "cell_type": "code",
   "execution_count": 13,
   "metadata": {},
   "outputs": [
    {
     "name": "stdout",
     "output_type": "stream",
     "text": [
      "(400, 1)\n",
      "float32\n"
     ]
    }
   ],
   "source": [
    "# Captions\n",
    "f = open('cap2vid/dataset/walking/pickle_y.pkl', 'rb')\n",
    "Y = pickle.load(f)\n",
    "f.close()\n",
    "Y = np.array(Y, dtype=np.float32)\n",
    "Y = Y.reshape(-1,1)\n",
    "print(Y.shape)\n",
    "captions = Y\n",
    "print(Y.dtype)"
   ]
  },
  {
   "cell_type": "code",
   "execution_count": 14,
   "metadata": {
    "collapsed": true
   },
   "outputs": [],
   "source": [
    "\n",
    "def encode_caption_in_image(caption, width, height):\n",
    "    return cv2.resize(caption, (width,height), interpolation=cv2.INTER_NEAREST)\n",
    "\n",
    "def encode_caption_in_image_onehot(caption, width, height, resize=True):\n",
    "    res_matrix = np.zeros(shape=(SENTENCE_LENGTH,NUM_DIFF_WORDS))\n",
    "    for windex in range(len(caption)):\n",
    "        vec = one_hot(caption[windex])\n",
    "        res_matrix[windex] = vec\n",
    "    if resize:\n",
    "        res_matrix = cv2.resize(res_matrix, (width,height), interpolation=cv2.INTER_NEAREST)\n",
    "    return res_matrix\n",
    "\n",
    "def one_hot(val):\n",
    "    val = int(val)\n",
    "    vec = np.zeros(NUM_DIFF_WORDS)\n",
    "    vec[val] = 1\n",
    "    return vec\n",
    "   "
   ]
  },
  {
   "cell_type": "code",
   "execution_count": 15,
   "metadata": {
    "collapsed": true
   },
   "outputs": [],
   "source": [
    "imgs_captions_small = []\n",
    "for i in range(captions.shape[0]):\n",
    "    imgs_captions_small.append(encode_caption_in_image_onehot(captions[i], 64, 64, resize=False).flatten())\n",
    "    \n",
    "#imgs_captions = np.array(imgs_captions)\n",
    "imgs_captions_small = np.array(imgs_captions_small)"
   ]
  },
  {
   "cell_type": "code",
   "execution_count": 16,
   "metadata": {},
   "outputs": [
    {
     "name": "stdout",
     "output_type": "stream",
     "text": [
      "400\n",
      "(400, 1)\n",
      "(400, 2)\n"
     ]
    }
   ],
   "source": [
    "print(len(X2))\n",
    "print(captions.shape)\n",
    "print(imgs_captions_small.shape)"
   ]
  },
  {
   "cell_type": "code",
   "execution_count": 17,
   "metadata": {
    "collapsed": true
   },
   "outputs": [],
   "source": [
    "num_sequences = 400\n",
    "length_sequences = 10"
   ]
  },
  {
   "cell_type": "code",
   "execution_count": 18,
   "metadata": {},
   "outputs": [
    {
     "name": "stderr",
     "output_type": "stream",
     "text": [
      "100%|██████████| 120/120 [00:03<00:00, 27.54it/s]\n"
     ]
    },
    {
     "name": "stdout",
     "output_type": "stream",
     "text": [
      "(2336, 128, 128, 10)\n",
      "(2336, 2)\n",
      "(2336, 128, 128, 1)\n"
     ]
    }
   ],
   "source": [
    "num_examples = 120 #80 before, use all\n",
    "\n",
    "X_img_in = [] \n",
    "X_captions_in = []\n",
    "Y_img_out = []\n",
    "\n",
    "for i in tqdm(range(num_examples)): #imgs.shape[0])):\n",
    "    this_sequence = imgs[i] #shape (10,64,64)\n",
    "    for num_previous_included in range(1, this_sequence.shape[0]):\n",
    "        #print(num_previous_included)\n",
    "        X_this = np.zeros(shape=(128,128,length_sequences))\n",
    "        prev_frames = this_sequence[max(0,num_previous_included-10):num_previous_included] #this_sequence[0:num_previous_included]\n",
    "        prev_frames = np.swapaxes(prev_frames, 0, 1)\n",
    "        prev_frames = np.swapaxes(prev_frames, 1, 2)\n",
    "        X_this[:,:,0:num_previous_included] = prev_frames #X_this[:,:,0:num_previous_included] = prev_frames\n",
    "        next_frame = this_sequence[num_previous_included]\n",
    "        \n",
    "        X_img_in.append(X_this.copy())\n",
    "        X_captions_in.append(imgs_captions_small[i])\n",
    "        Y_img_out.append(next_frame.reshape(128,128,1))\n",
    "\n",
    "X_img_in = np.array(X_img_in, dtype=np.float32)\n",
    "X_captions_in = np.array(X_captions_in, dtype=np.float32)\n",
    "Y_img_out = np.array(Y_img_out, dtype=np.float32)\n",
    "print(X_img_in.shape)\n",
    "print(X_captions_in.shape)\n",
    "print(Y_img_out.shape)"
   ]
  },
  {
   "cell_type": "code",
   "execution_count": 19,
   "metadata": {},
   "outputs": [
    {
     "data": {
      "text/plain": [
       "<matplotlib.image.AxesImage at 0x228c94262e8>"
      ]
     },
     "execution_count": 19,
     "metadata": {},
     "output_type": "execute_result"
    },
    {
     "data": {
      "image/png": "[encoded data removed]",
      "text/plain": [
       "<matplotlib.figure.Figure at 0x228d135c3c8>"
      ]
     },
     "metadata": {},
     "output_type": "display_data"
    },
    {
     "data": {
      "image/png": "[encoded data removed]",
      "text/plain": [
       "<matplotlib.figure.Figure at 0x228d135c390>"
      ]
     },
     "metadata": {},
     "output_type": "display_data"
    }
   ],
   "source": [
    "plt.imshow(X_img_in[320,:,:,7], cmap='gray')\n",
    "plt.figure()\n",
    "plt.imshow(Y_img_out[320,:,:,0], cmap='gray')"
   ]
  },
  {
   "cell_type": "code",
   "execution_count": 20,
   "metadata": {},
   "outputs": [
    {
     "name": "stdout",
     "output_type": "stream",
     "text": [
      "0.0 1.0\n",
      "0.0 1.0\n",
      "0.017386641 1.0\n"
     ]
    }
   ],
   "source": [
    "X_img_in/=255.0\n",
    "Y_img_out/=255.0\n",
    "\n",
    "print(X_img_in.min(), X_img_in.max())\n",
    "print(X_captions_in.min(), X_captions_in.max())\n",
    "print(Y_img_out.min(), Y_img_out.max())"
   ]
  },
  {
   "cell_type": "markdown",
   "metadata": {},
   "source": [
    "## Train and test sets"
   ]
  },
  {
   "cell_type": "code",
   "execution_count": 21,
   "metadata": {},
   "outputs": [
    {
     "name": "stdout",
     "output_type": "stream",
     "text": [
      "Shape of X_img_train, X_captions_train, Y_img_train, X_img_test, X_captions_test, Y_img_test (1865, 128, 128, 10) (1865, 2) (1865, 128, 128, 1) (471, 128, 128, 10) (471, 2) (471, 128, 128, 1)\n"
     ]
    }
   ],
   "source": [
    "frac = 0.8\n",
    "mask = np.random.binomial(1, frac, size=X_img_in.shape[0])\n",
    "mask = np.array(mask, dtype=np.bool)\n",
    "X_img_train = X_img_in[mask]\n",
    "X_captions_train = X_captions_in[mask]\n",
    "Y_img_train = Y_img_out[mask]\n",
    "\n",
    "X_img_test = X_img_in[~mask]\n",
    "X_captions_test = X_captions_in[~mask]\n",
    "Y_img_test = Y_img_out[~mask]\n",
    "\n",
    "print('Shape of X_img_train, X_captions_train, Y_img_train, X_img_test, X_captions_test, Y_img_test',\n",
    "     X_img_train.shape, X_captions_train.shape, Y_img_train.shape, X_img_test.shape, X_captions_test.shape, Y_img_test.shape)"
   ]
  },
  {
   "cell_type": "markdown",
   "metadata": {},
   "source": [
    "## Generator and discriminator builder functions"
   ]
  },
  {
   "cell_type": "code",
   "execution_count": 22,
   "metadata": {
    "collapsed": true
   },
   "outputs": [],
   "source": [
    "def get_unet(width, height, lrate=1e-4, start_filters=8, dr_rate=0):\n",
    "    inputs = Input((height, width, 10))\n",
    "    #inputs2\n",
    "  \n",
    "    conv1 = Conv2D(start_filters, 3, activation = 'relu', padding = 'same', kernel_initializer = 'he_normal')(inputs)\n",
    "    conv1 = Conv2D(start_filters, 3, activation = 'relu', padding = 'same', kernel_initializer = 'he_normal')(conv1)\n",
    "    pool1 = AvgPool2D(pool_size=(2, 2))(conv1)\n",
    "    \n",
    "    conv2 = Conv2D(start_filters*2, 3, activation = 'relu', padding = 'same', kernel_initializer = 'he_normal')(pool1)\n",
    "    conv2 = Conv2D(start_filters*2, 3, activation = 'relu', padding = 'same', kernel_initializer = 'he_normal')(conv2)\n",
    "    pool2 = AvgPool2D(pool_size=(2, 2))(conv2)\n",
    "  \n",
    "    conv3 = Conv2D(start_filters*4, 3, activation = 'relu', padding = 'same', kernel_initializer = 'he_normal')(pool2)\n",
    "    conv3 = Conv2D(start_filters*4, 3, activation = 'relu', padding = 'same', kernel_initializer = 'he_normal')(conv3)\n",
    "    pool3 = AvgPool2D(pool_size=(2, 2))(conv3)\n",
    "  \n",
    "    conv4 = Conv2D(start_filters*8, 3, activation = 'relu', padding = 'same', kernel_initializer = 'he_normal')(pool3)\n",
    "    conv4 = Conv2D(start_filters*8, 3, activation = 'relu', padding = 'same', kernel_initializer = 'he_normal')(conv4)\n",
    "   \n",
    "\n",
    "    drop4 = Dropout(dr_rate)(conv4) \n",
    "    pool4 = AvgPool2D(pool_size=(2, 2))(drop4)\n",
    "\n",
    "    conv5 = Conv2D(start_filters*16, 3, activation = 'relu', padding = 'same', kernel_initializer = 'he_normal')(pool4)\n",
    "    conv5 = Conv2D(start_filters*16, 3, activation = 'relu', padding = 'same', kernel_initializer = 'he_normal')(conv5)\n",
    "    drop5 = Dropout(dr_rate)(conv5)\n",
    "\n",
    "    \n",
    "    \n",
    "    flat = keras.layers.Flatten()(conv4)\n",
    "    inputs_hidden = Input((NUM_DIFF_WORDS*SENTENCE_LENGTH,), name='hidden_input')#, tensor=conv4), name='input_hidden'\n",
    "    hiddenmerge = merge([flat,inputs_hidden], mode = 'concat', concat_axis = 1, name='hidden_merge')\n",
    "    dense1 = keras.layers.Dense(1024, activation='relu', name='dense1')(hiddenmerge)\n",
    "    dense2 = keras.layers.Dense(8192, activation='relu', name='dense2')(dense1)\n",
    "    rshp = keras.layers.Reshape(target_shape=(8,8,128))(dense2)\n",
    " \n",
    "\n",
    "    \n",
    "    #14,14,64\n",
    "    up6 = Conv2D(start_filters*8, 2, activation = 'relu', padding = 'same', kernel_initializer = 'he_normal')(UpSampling2D(size = (2,2))(rshp))\n",
    "    merge6 = merge([drop4,up6], mode = 'concat', concat_axis = 3)\n",
    "    conv6 = Conv2D(start_filters*8, 3, activation = 'relu', padding = 'same', kernel_initializer = 'he_normal')(merge6)\n",
    "    conv6 = Conv2D(start_filters*8, 3, activation = 'relu', padding = 'same', kernel_initializer = 'he_normal')(conv6)\n",
    "    \n",
    "    \n",
    "   \n",
    "    \n",
    "    up7 = Conv2D(start_filters*4, 2, activation = 'relu', padding = 'same', kernel_initializer = 'he_normal')(UpSampling2D(size = (2,2))(conv6))#conv4\n",
    "    merge7 = merge([conv3,up7], mode = 'concat', concat_axis = 3)\n",
    "    conv7 = Conv2D(start_filters*4, 3, activation = 'relu', padding = 'same', kernel_initializer = 'he_normal')(merge7)\n",
    "    conv7 = Conv2D(start_filters*4, 3, activation = 'relu', padding = 'same', kernel_initializer = 'he_normal')(conv7)\n",
    "\n",
    "    up8 = Conv2D(start_filters*4, 2, activation = 'relu', padding = 'same', kernel_initializer = 'he_normal')(UpSampling2D(size = (2,2))(conv7))\n",
    "    merge8 = merge([conv2,up8], mode = 'concat', concat_axis = 3)\n",
    "    conv8 = Conv2D(start_filters*2, 3, activation = 'relu', padding = 'same', kernel_initializer = 'he_normal')(merge8)\n",
    "    conv8 = Conv2D(start_filters*2, 3, activation = 'relu', padding = 'same', kernel_initializer = 'he_normal')(conv8)\n",
    "\n",
    "    up9 = Conv2D(start_filters, 2, activation = 'relu', padding = 'same', kernel_initializer = 'he_normal')(UpSampling2D(size = (2,2))(conv8))\n",
    "    merge9 = merge([conv1,up9], mode = 'concat', concat_axis = 3)\n",
    "    conv9 = Conv2D(start_filters, 3, activation = 'relu', padding = 'same', kernel_initializer = 'he_normal')(merge9)\n",
    "    conv9 = Conv2D(start_filters, 3, activation = 'relu', padding = 'same', kernel_initializer = 'he_normal')(conv9)\n",
    "    conv9 = Conv2D(2, 3, activation = 'relu', padding = 'same', kernel_initializer = 'he_normal')(conv9)\n",
    "    conv10 = Conv2D(1, 1, activation = 'sigmoid')(conv9)\n",
    "\n",
    "\n",
    "    \n",
    "    model = Model(input = [inputs, inputs_hidden], output = conv10)\n",
    "\n",
    "    return model"
   ]
  },
  {
   "cell_type": "code",
   "execution_count": 23,
   "metadata": {
    "collapsed": true
   },
   "outputs": [],
   "source": [
    "def build_discriminator_frames(input_frames_dim):\n",
    "    \n",
    "    drop_p = 0.1\n",
    "    \n",
    "    model = Sequential()\n",
    "\n",
    "    model.add(Conv2D(32, kernel_size=3, strides=1, input_shape=input_frames_dim, padding=\"same\"))\n",
    "    model.add(LeakyReLU(alpha=0.2))\n",
    "    model.add(BatchNormalization(momentum=0.8))\n",
    "    model.add(AvgPool2D(pool_size=(2, 2)))\n",
    "    model.add(Dropout(drop_p))\n",
    "    \n",
    "    model.add(Conv2D(64, kernel_size=3, strides=1, padding=\"same\"))\n",
    "    model.add(LeakyReLU(alpha=0.2))\n",
    "    model.add(BatchNormalization(momentum=0.8))\n",
    "    model.add(AvgPool2D(pool_size=(2, 2)))\n",
    "    model.add(Dropout(drop_p))\n",
    "    \n",
    "    model.add(Conv2D(128, kernel_size=3, strides=1, padding=\"same\"))\n",
    "    model.add(LeakyReLU(alpha=0.2))\n",
    "    model.add(BatchNormalization(momentum=0.8))\n",
    "    model.add(AvgPool2D(pool_size=(2, 2)))\n",
    "    model.add(Dropout(drop_p))\n",
    "    \n",
    "    model.add(Conv2D(256, kernel_size=3, strides=1, padding=\"same\"))\n",
    "    model.add(BatchNormalization(momentum=0.8))\n",
    "    model.add(Dropout(drop_p))\n",
    "    \n",
    "    model.add(Flatten())\n",
    "    model.add(Dense(1, activation='sigmoid'))\n",
    "\n",
    "    img = Input(shape=input_frames_dim)\n",
    "    validity = model(img)\n",
    "\n",
    "    return Model(img, validity)\n"
   ]
  },
  {
   "cell_type": "code",
   "execution_count": 24,
   "metadata": {},
   "outputs": [
    {
     "name": "stdout",
     "output_type": "stream",
     "text": [
      "Shape of X_img_train, X_captions_train, Y_img_train, X_img_test, X_captions_test, Y_img_test (1865, 128, 128, 10) (1865, 2) (1865, 128, 128, 1) (471, 128, 128, 10) (471, 2) (471, 128, 128, 1)\n"
     ]
    }
   ],
   "source": [
    "print('Shape of X_img_train, X_captions_train, Y_img_train, X_img_test, X_captions_test, Y_img_test',\n",
    "     X_img_train.shape, X_captions_train.shape, Y_img_train.shape, X_img_test.shape, X_captions_test.shape, Y_img_test.shape)"
   ]
  },
  {
   "cell_type": "markdown",
   "metadata": {},
   "source": [
    "## Constants for training"
   ]
  },
  {
   "cell_type": "code",
   "execution_count": 33,
   "metadata": {
    "collapsed": true
   },
   "outputs": [],
   "source": [
    "lr_gen = 0.00001\n",
    "lr_disc = 0.00002\n",
    "lr_combined = 0.00001\n",
    "\n",
    "batchsize_pretrain = 16\n",
    "batchsize = 8\n",
    "\n",
    "train_epochs = 5\n",
    "\n",
    "d_upd = 5\n",
    "g_upd = 1"
   ]
  },
  {
   "cell_type": "markdown",
   "metadata": {},
   "source": [
    "## Building the computational graph of the GAN"
   ]
  },
  {
   "cell_type": "code",
   "execution_count": 34,
   "metadata": {
    "scrolled": true
   },
   "outputs": [
    {
     "name": "stdout",
     "output_type": "stream",
     "text": [
      "_________________________________________________________________\n",
      "Layer (type)                 Output Shape              Param #   \n",
      "=================================================================\n",
      "input_5 (InputLayer)         (None, 128, 128, 1)       0         \n",
      "_________________________________________________________________\n",
      "sequential_3 (Sequential)    (None, 1)                 455297    \n",
      "=================================================================\n",
      "Total params: 455,297\n",
      "Trainable params: 454,337\n",
      "Non-trainable params: 960\n",
      "_________________________________________________________________\n"
     ]
    }
   ],
   "source": [
    "from keras.layers import LeakyReLU, ZeroPadding2D, BatchNormalization\n",
    "\n",
    "# Build and compile discrim\n",
    "discrim = build_discriminator_frames(Y_img_out[0].shape)\n",
    "discrim.compile(loss='binary_crossentropy', optimizer= Adam(lr_disc), metrics=['accuracy']) #Removed 0.5 from adam\n",
    "discrim.summary()\n",
    "\n",
    "load_gen=True\n",
    "if load_gen:\n",
    "    # load existing model\n",
    "    model = keras.models.load_model('gan_walking_ckpts/weights.50.hdf5')\n",
    "else:\n",
    "    # Build generator\n",
    "    model = get_unet(128, 128, lrate=0.0001, start_filters=8, dr_rate=0.5) #best so far: 0.001\n",
    "\n",
    "# Generator takes img and caption as input\n",
    "captions_input_node = Input((NUM_DIFF_WORDS*SENTENCE_LENGTH,), name='hidden_input')#, tensor=conv4), name='input_hidden'\n",
    "img_input_node = Input((128, 128, 10))\n",
    "\n",
    "frame = model([img_input_node, captions_input_node])\n",
    "\n",
    "# For the combined model we will only train the generator\n",
    "discrim.trainable = False\n",
    "\n",
    "# The discriminator takes generated frames as input and determines validity\n",
    "valid = discrim(frame)\n",
    "\n"
   ]
  },
  {
   "cell_type": "markdown",
   "metadata": {},
   "source": [
    "## Training the GAN"
   ]
  },
  {
   "cell_type": "code",
   "execution_count": 35,
   "metadata": {
    "collapsed": true
   },
   "outputs": [],
   "source": [
    "def generate_and_save(img_input, sentence_input, img_groundtruth, generator, folder, show=True, N=1, name=''):\n",
    "    \n",
    "    idx = np.random.randint(0, img_input.shape[0], size=N)\n",
    "\n",
    "    for i in idx:\n",
    "        plt.figure(figsize=[10,10])\n",
    "        current_sent = sentence_input[i].reshape(1,NUM_DIFF_WORDS*SENTENCE_LENGTH)\n",
    "        current_im = img_input[i].reshape(1,128,128,10).copy()\n",
    "        img_pred = generator.predict(x=[current_im, current_sent])\n",
    "        for f in range(10):\n",
    "            ax = plt.subplot2grid((4, 5), (f//5, f%5))\n",
    "            ax.imshow(img_input[i][:,:,f], cmap='gray')\n",
    "            ax.set_axis_off()\n",
    "        \n",
    "        ax1 = plt.subplot2grid((4, 5), (2,0), colspan=2, rowspan=2)\n",
    "        ax1.imshow(img_pred[0,:,:,0], cmap='gray')\n",
    "        ax1.set_axis_off()\n",
    "        ax1.set_title('Predicted')\n",
    "        ax2 = plt.subplot2grid((4, 5), (2,3), colspan=2, rowspan=2)\n",
    "        ax2.imshow(img_groundtruth[i][:,:,0], cmap='gray') \n",
    "        ax2.set_axis_off()\n",
    "        ax2.set_title('Ground truth')\n",
    "        if current_sent[0][0] ==1:\n",
    "            caption = '\"a person walking to the left\"' \n",
    "        else:\n",
    "            caption = '\"a person walking to the right\"' \n",
    "        plt.suptitle('Caption: '+caption+'\\n\\nInput images' , y=0.93)\n",
    "        plt.subplots_adjust(wspace=0.05, hspace=0.0001)\n",
    "        plt.savefig(os.path.join(folder, 'gen_result_'+name+'_'+str(i)+'.png'), bbox_inches='tight')\n",
    "        plt.show()"
   ]
  },
  {
   "cell_type": "markdown",
   "metadata": {},
   "source": [
    "#### Pretrain Discriminator "
   ]
  },
  {
   "cell_type": "code",
   "execution_count": 36,
   "metadata": {
    "scrolled": true
   },
   "outputs": [
    {
     "data": {
      "image/png": "[encoded data removed]",
      "text/plain": [
       "<matplotlib.figure.Figure at 0x22e4efe8fd0>"
      ]
     },
     "metadata": {},
     "output_type": "display_data"
    },
    {
     "name": "stderr",
     "output_type": "stream",
     "text": [
      "100%|██████████| 2000/2000 [03:20<00:00,  9.99it/s]\n"
     ]
    }
   ],
   "source": [
    "# PRETRAIN DISCR\n",
    "\n",
    "def train_discrim(d_it = 1500, plot_progress=True, plot = False):\n",
    "    #If generator has been loaded, pretrain the discriminator for d_it iterations\n",
    "    \n",
    "    losses = []\n",
    "    if plot_progress:\n",
    "        plt.figure()\n",
    "        \n",
    "    for d in tqdm(range(d_it), disable=(not plot_progress)):\n",
    "        # Select a random half batch of real frames\n",
    "        index = np.random.randint(0, Y_img_train.shape[0], int(batchsize_pretrain / 2.))\n",
    "        frames = Y_img_train[index]\n",
    "                    \n",
    "        # Generate a random half batch of generator frames\n",
    "        index = np.random.randint(0, X_img_train.shape[0], size=int(batchsize_pretrain / 2.))\n",
    "        gen_frames = model.predict(x=[X_img_train[index], X_captions_train[index]])\n",
    "\n",
    "        # Fit discrim on real frames\n",
    "        d_loss_real = discrim.train_on_batch(x = frames, y=np.ones((int(batchsize_pretrain/ 2.), 1))) \n",
    "        \n",
    "        # Fit discrim on generated frames\n",
    "        d_loss_fake = discrim.train_on_batch(x = gen_frames, y=np.zeros((int(batchsize_pretrain / 2.), 1)))\n",
    "        d_loss = 0.5 * np.add(d_loss_real, d_loss_fake)\n",
    "        losses.append(d_loss)\n",
    "        \n",
    "        if plot_progress:\n",
    "            if not d%10:\n",
    "                clear_output(wait=True)\n",
    "                plt.plot([l[0] for l in losses])\n",
    "                plt.title('Discriminator loss')\n",
    "                plt.show()\n",
    "                if plot:\n",
    "                    plt.show()\n",
    "                    plt.figure()\n",
    "                    plt.imshow(frames[0,:,:,0], cmap='gray')\n",
    "                    plt.show()\n",
    "                    plt.figure()\n",
    "                    plt.imshow(gen_frames[0,:,:,0],cmap='gray')\n",
    "                    plt.show()\n",
    "    return losses\n",
    "\n",
    "    \n",
    "load_discrim = False                   \n",
    "if load_gen:\n",
    "    if load_discrim:\n",
    "        print('Loading Discriminator...')\n",
    "        discrim = keras.models.load_model('./gan_walking_ckpts/discrim_it4500.hdf5')\n",
    "        print('Done.')\n",
    "    else:\n",
    "        d_it=2000\n",
    "        train_discrim(d_it = d_it)\n",
    "        save_model(discrim, './gan_walking_ckpts/discrim_it'+str(d_it)+'.hdf5')\n"
   ]
  },
  {
   "cell_type": "markdown",
   "metadata": {},
   "source": [
    "### Train GAN - simple training\n",
    "\n",
    "Classic GAN training with cross entropy loss."
   ]
  },
  {
   "cell_type": "code",
   "execution_count": null,
   "metadata": {
    "collapsed": true
   },
   "outputs": [],
   "source": [
    "def train_gan_simple(save_m=False):\n",
    "    for e in range(train_epochs):\n",
    "        for it in tqdm(range(Y_img_train.shape[0])):\n",
    "            \n",
    "            # Train Discriminator\n",
    "            losses = train_discrim(d_upd, plot_progress=False)\n",
    "            d_loss = np.mean(losses, axis=0)\n",
    "\n",
    "            # Fit combined model (generator)\n",
    "            g_loss = 0\n",
    "            for i in range(g_upd): # g_upd gen updates per discrim update\n",
    "                \n",
    "                # Get batch for combined model\n",
    "                index = np.random.randint(0, X_img_train.shape[0], size=int(batchsize))\n",
    "                g_loss += combined.train_on_batch(x=[X_img_train[index], X_captions_train[index]], y=np.ones((batchsize, 1)))\n",
    "            g_loss /= g_upd\n",
    "            \n",
    "            if not it%10:\n",
    "                if save_m:\n",
    "                    save_model(model, './gan_walking_ckpts/generator_weights_epoch'+str(e)+'it'+str(it)+'.hdf5')\n",
    "                print (\"%d [D loss: %f, acc.: %.2f%%] [G loss: %f b_c: %f, mse: %f]\" % (it, d_loss[0], 100*d_loss[1], g_loss))\n",
    "                generate_and_save(X_img_test, X_captions_test, Y_img_test, model, 'gan_walking_results', show=True, name='e'+str(e)+'it'+str(it))\n",
    "\n",
    "            \n",
    "            \n",
    "# Compile the combined model (stacked generator and discriminator)\n",
    "combined = Model([img_input_node, captions_input_node], valid)\n",
    "combined.compile(loss='binary_crossentropy', optimizer= Adam(lr=lr_combined))\n",
    "train_gan_simple()"
   ]
  },
  {
   "cell_type": "markdown",
   "metadata": {},
   "source": [
    "### Train GAN double loss\n",
    "\n",
    "Train a gan that optimizes 2 losses at the same time: crossentropy through the discriminator, and mse just for the generator."
   ]
  },
  {
   "cell_type": "code",
   "execution_count": null,
   "metadata": {
    "scrolled": true
   },
   "outputs": [],
   "source": [
    "def train_gan_double_loss(save_m=False):\n",
    "    \n",
    "    for e in range(train_epochs):\n",
    "        for it in tqdm(range(Y_img_train.shape[0])):\n",
    "            \n",
    "            # Train Discriminator\n",
    "            losses = train_discrim(d_upd, plot_progress=False)\n",
    "            d_loss = np.mean(losses, axis=0)\n",
    "\n",
    "            # Fit combined model (generator)\n",
    "            g_loss_tot = [0,0,0]\n",
    "            for i in range(g_upd): # g_upd gen updates per discrim update\n",
    "                # Get batch for combined model\n",
    "                index = np.random.randint(0, X_img_train.shape[0], size=int(batchsize))\n",
    "                g_loss = combined.train_on_batch(x=[X_img_train[index], X_captions_train[index]], y=[np.ones((batchsize, 1)),Y_img_train[index]])\n",
    "                \n",
    "                g_loss_tot[0] += g_loss[0]\n",
    "                g_loss_tot[1] += g_loss[1]\n",
    "                g_loss_tot[2] += g_loss[2]\n",
    "            \n",
    "            g_loss_tot = np.array(g_loss_tot)/g_upd\n",
    "\n",
    "            if not it%10:\n",
    "                if save_m:\n",
    "                    save_model(model, './gan_walking_ckpts/generator_weights_epoch'+str(e)+'it'+str(it)+'.hdf5')\n",
    "                print (\"%d [D loss: %f, acc.: %.2f%%] [G loss: %f b_c: %f, mse: %f]\" % (it, d_loss[0], 100*d_loss[1], g_loss[0], g_loss[1], g_loss[2]))\n",
    "                generate_and_save(X_img_test, X_captions_test, Y_img_test, model, 'gan_walking_results', show=True, name='e'+str(e)+'it'+str(it))\n",
    "\n",
    "            \n",
    "            \n",
    "# The combined model (stacked generator and discriminator)\n",
    "combined = Model([img_input_node, captions_input_node], [valid, frame])\n",
    "combined.compile(loss=['binary_crossentropy','mse'], optimizer= Adam(lr=lr_combined))\n",
    "train_gan_double_loss()"
   ]
  },
  {
   "cell_type": "markdown",
   "metadata": {},
   "source": [
    "### Train GAN alternating\n",
    "\n",
    "Train the GAN for 100 iterations with the discrim, then disconnect discrim and train just the generator with MSE loss for 100 iterations. Repeat."
   ]
  },
  {
   "cell_type": "code",
   "execution_count": null,
   "metadata": {
    "scrolled": true
   },
   "outputs": [],
   "source": [
    "def train_gan_alternating(discrim, combined, generator, switch_it = 100, save_m=False):\n",
    "    print('Starting training')\n",
    "    train_gan = True\n",
    "\n",
    "    for e in range(train_epochs):\n",
    "        for it in tqdm(range(Y_img_train.shape[0])):\n",
    "            if train_gan:\n",
    "\n",
    "                # Train Discriminator\n",
    "                losses = train_discrim(d_upd, plot_progress=False)\n",
    "                d_loss = np.mean(losses, axis=0)\n",
    "\n",
    "                # Fit combined model (generator)\n",
    "                g_loss = 0\n",
    "                for i in range(g_upd): # g_upd gen updates per discrim update\n",
    "                    # Get batch for combined model\n",
    "                    index = np.random.randint(0, X_img_train.shape[0], size=int(batchsize))                \n",
    "                    g_loss += combined.train_on_batch(x=[X_img_train[index], X_captions_train[index]], y=np.ones((batchsize, 1)))\n",
    "            \n",
    "            else:\n",
    "                g_loss = 0\n",
    "                for i in range(g_upd): # g_upd gen updates per discrim update\n",
    "                    # Get batch for combined model\n",
    "                    index = np.random.randint(0, X_img_train.shape[0], size=int(batchsize))                \n",
    "                    g_loss += generator.train_on_batch(x=[X_img_train[index], X_captions_train[index]], y=Y_img_train[index])\n",
    "            \n",
    "            g_loss = g_loss/g_upd\n",
    "\n",
    "            if not it%switch_it: \n",
    "                print('Switching training loss')\n",
    "                train_gan = not train_gan\n",
    "\n",
    "            if not it%10:\n",
    "                if save_m:\n",
    "                    save_model(model, './gan_walking_ckpts/generator_epoch'+str(e)+'it'+str(it)+'.hdf5')\n",
    "                print (\"%d [D loss: %f, acc.: %.2f%%] [G loss: %f ]\" % \n",
    "                       (it, d_loss[0], 100*d_loss[1], g_loss))\n",
    "                generate_and_save(X_img_train, X_captions_train, Y_img_train, generator, \n",
    "                                  'gan_walking_results', show=True, name='e'+str(e)+'it'+str(it))            \n",
    "            \n",
    "\n",
    "# Compiling generator\n",
    "model.compile(optimizer = Adam(lr = 0.0001), loss = 'mse')\n",
    "\n",
    "# Compiling combined model\n",
    "combined = Model([img_input_node, captions_input_node], valid)\n",
    "combined.compile(loss='binary_crossentropy', optimizer= Adam(lr=lr_combined))\n",
    "train_gan_alternating(discrim, combined, model, switch_it=100)"
   ]
  },
  {
   "cell_type": "code",
   "execution_count": null,
   "metadata": {
    "collapsed": true
   },
   "outputs": [],
   "source": [
    "# Save model if necessary\n",
    "save_model(model, './gan_walking_ckpts/generator_f.hdf5')"
   ]
  },
  {
   "cell_type": "code",
   "execution_count": 37,
   "metadata": {},
   "outputs": [
    {
     "name": "stdout",
     "output_type": "stream",
     "text": [
      "(1865, 1)\n",
      "0.5050683\n",
      "(1865, 1)\n",
      "0.5045646\n"
     ]
    }
   ],
   "source": [
    "# Get accuracy of discriminator on training\n",
    "preds = discrim.predict(Y_img_train)\n",
    "print(preds.shape)\n",
    "print(np.mean(preds))\n",
    "\n",
    "preds_from_gen = discrim.predict(model.predict(x=[X_img_train, X_captions_train]))\n",
    "print(preds_from_gen.shape)\n",
    "print(1-np.mean(preds_from_gen))"
   ]
  },
  {
   "cell_type": "code",
   "execution_count": null,
   "metadata": {
    "collapsed": true
   },
   "outputs": [],
   "source": [
    "def get_feature_maps(model, layer_in, layer_out, input_image):\n",
    "    model_ = Model(inputs=[model.layers[layer_in].input], outputs=[model.layers[layer_out].output])\n",
    "    return model_.predict(input_image)"
   ]
  },
  {
   "cell_type": "code",
   "execution_count": null,
   "metadata": {
    "collapsed": true
   },
   "outputs": [],
   "source": [
    "# Predict function\n",
    "\n",
    "def predict(model, img_input, sentence_input, img_groundtruth, recursion=1, flip=False, plot=True):\n",
    "    print('caption: ', sentence_input)\n",
    "    \n",
    "    if flip:\n",
    "        sentence_input = np.flip(sentence_input, 0)\n",
    "    if plot:\n",
    "        print('new caption: ', sentence_input)\n",
    "        plt.figure()\n",
    "        plt.title('input frame (previous)')\n",
    "        plt.imshow(img_input, cmap='gray')\n",
    "    \n",
    "    sentence_input = sentence_input.reshape(1,NUM_DIFF_WORDS*SENTENCE_LENGTH)\n",
    "    current_img_input = img_input.reshape(1,128,128,1).copy()\n",
    "    \n",
    "    X_this = np.zeros(shape=(1,128,128,length_sequences))\n",
    "    insertion = 0\n",
    "    if plot:\n",
    "        plt.figure(figsize=(15,15))\n",
    "    for i in range(recursion):\n",
    "#         print(current_img_input.shape)\n",
    "        insertion=i\n",
    "        if i>=length_sequences:\n",
    "            print('triggered')\n",
    "            #insertion = 0#length_sequences-1\n",
    "            #X_this = np.zeros_like(X_this)\n",
    "            X_this = np.roll(X_this, -1, axis=3)\n",
    "            \n",
    "        X_this[0,:,:,insertion] = current_img_input.reshape(128,128)\n",
    "        current_img_input = model.predict(x=[X_this, sentence_input])\n",
    "\n",
    "        if plot:\n",
    "            plt.subplot(4,5,i+1)\n",
    "            plt.title('prediction ' + str(i+1))\n",
    "            plt.imshow(current_img_input[0,:,:,0], cmap='gray')\n",
    "       \n",
    "    \n",
    "    if not img_groundtruth is None and plot:\n",
    "        plt.figure()\n",
    "        plt.title('groundtruth')\n",
    "        plt.imshow(img_groundtruth[:,:,0], cmap='gray')\n",
    "        \n",
    "#     return current_img_input"
   ]
  },
  {
   "cell_type": "markdown",
   "metadata": {},
   "source": [
    "# Compare with best non-gan model"
   ]
  },
  {
   "cell_type": "code",
   "execution_count": null,
   "metadata": {
    "collapsed": true
   },
   "outputs": [],
   "source": [
    "model_nongan_best = keras.models.load_model('gan_walking_ckpts/weights.450.hdf5')"
   ]
  },
  {
   "cell_type": "code",
   "execution_count": null,
   "metadata": {
    "scrolled": false
   },
   "outputs": [],
   "source": [
    "index=21\n",
    "predict(model_nongan_best, X_img_test[index,:,:,0], X_captions_test[index], Y_img_test[index], recursion=10)\n",
    "predict(model, X_img_test[index,:,:,0], X_captions_test[index], Y_img_test[index], recursion=10)"
   ]
  },
  {
   "cell_type": "code",
   "execution_count": null,
   "metadata": {
    "collapsed": true
   },
   "outputs": [],
   "source": [
    "index=1050 #1050\n",
    "predict(model, X_img_test[index,:,:,3], X_captions_test[index], Y_img_out[index], recursion=10, flip=False)"
   ]
  },
  {
   "cell_type": "code",
   "execution_count": null,
   "metadata": {},
   "outputs": [],
   "source": [
    "go_left=True\n",
    "\n",
    "cap = np.zeros(shape=2, dtype=float)\n",
    "if go_left:\n",
    "    cap[0] = 1.0\n",
    "else:\n",
    "    cap[1] = 1.0\n",
    "print(cap)\n",
    "cam = cv2.imread('IMG_3199.jpg', 0)/255.\n",
    "\n",
    "\n",
    "predict(model, cam, cap, None, recursion=10, flip=False)\n",
    "\n"
   ]
  }
 ],
 "metadata": {
  "kernelspec": {
   "display_name": "Python 3",
   "language": "python",
   "name": "python3"
  },
  "language_info": {
   "codemirror_mode": {
    "name": "ipython",
    "version": 3
   },
   "file_extension": ".py",
   "mimetype": "text/x-python",
   "name": "python",
   "nbconvert_exporter": "python",
   "pygments_lexer": "ipython3",
   "version": "3.6.1"
  }
 },
 "nbformat": 4,
 "nbformat_minor": 2
}
